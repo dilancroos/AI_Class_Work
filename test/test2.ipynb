{
 "cells": [
  {
   "cell_type": "code",
   "execution_count": 11,
   "metadata": {},
   "outputs": [
    {
     "name": "stdout",
     "output_type": "stream",
     "text": [
      "Downloading http://fashion-mnist.s3-website.eu-central-1.amazonaws.com/train-images-idx3-ubyte.gz\n",
      "Downloading http://fashion-mnist.s3-website.eu-central-1.amazonaws.com/train-images-idx3-ubyte.gz to ../Datasets/FashionMNIST/raw/train-images-idx3-ubyte.gz\n"
     ]
    },
    {
     "name": "stderr",
     "output_type": "stream",
     "text": [
      "100%|██████████| 26421880/26421880 [00:16<00:00, 1638483.49it/s]\n"
     ]
    },
    {
     "name": "stdout",
     "output_type": "stream",
     "text": [
      "Extracting ../Datasets/FashionMNIST/raw/train-images-idx3-ubyte.gz to ../Datasets/FashionMNIST/raw\n",
      "\n",
      "Downloading http://fashion-mnist.s3-website.eu-central-1.amazonaws.com/train-labels-idx1-ubyte.gz\n",
      "Downloading http://fashion-mnist.s3-website.eu-central-1.amazonaws.com/train-labels-idx1-ubyte.gz to ../Datasets/FashionMNIST/raw/train-labels-idx1-ubyte.gz\n"
     ]
    },
    {
     "name": "stderr",
     "output_type": "stream",
     "text": [
      "100%|██████████| 29515/29515 [00:00<00:00, 2487189.49it/s]"
     ]
    },
    {
     "name": "stdout",
     "output_type": "stream",
     "text": [
      "Extracting ../Datasets/FashionMNIST/raw/train-labels-idx1-ubyte.gz to ../Datasets/FashionMNIST/raw\n",
      "\n",
      "Downloading http://fashion-mnist.s3-website.eu-central-1.amazonaws.com/t10k-images-idx3-ubyte.gz\n"
     ]
    },
    {
     "name": "stderr",
     "output_type": "stream",
     "text": [
      "\n"
     ]
    },
    {
     "name": "stdout",
     "output_type": "stream",
     "text": [
      "Downloading http://fashion-mnist.s3-website.eu-central-1.amazonaws.com/t10k-images-idx3-ubyte.gz to ../Datasets/FashionMNIST/raw/t10k-images-idx3-ubyte.gz\n"
     ]
    },
    {
     "name": "stderr",
     "output_type": "stream",
     "text": [
      "100%|██████████| 4422102/4422102 [00:02<00:00, 1984354.46it/s]\n"
     ]
    },
    {
     "name": "stdout",
     "output_type": "stream",
     "text": [
      "Extracting ../Datasets/FashionMNIST/raw/t10k-images-idx3-ubyte.gz to ../Datasets/FashionMNIST/raw\n",
      "\n",
      "Downloading http://fashion-mnist.s3-website.eu-central-1.amazonaws.com/t10k-labels-idx1-ubyte.gz\n",
      "Downloading http://fashion-mnist.s3-website.eu-central-1.amazonaws.com/t10k-labels-idx1-ubyte.gz to ../Datasets/FashionMNIST/raw/t10k-labels-idx1-ubyte.gz\n"
     ]
    },
    {
     "name": "stderr",
     "output_type": "stream",
     "text": [
      "100%|██████████| 5148/5148 [00:00<00:00, 3181416.97it/s]\n"
     ]
    },
    {
     "name": "stdout",
     "output_type": "stream",
     "text": [
      "Extracting ../Datasets/FashionMNIST/raw/t10k-labels-idx1-ubyte.gz to ../Datasets/FashionMNIST/raw\n",
      "\n",
      "Epoch [1/10], Step [100/938], Loss: 0.6749\n",
      "Epoch [1/10], Step [200/938], Loss: 0.8893\n",
      "Epoch [1/10], Step [300/938], Loss: 0.4140\n",
      "Epoch [1/10], Step [400/938], Loss: 0.3435\n",
      "Epoch [1/10], Step [500/938], Loss: 0.5150\n",
      "Epoch [1/10], Step [600/938], Loss: 0.3696\n",
      "Epoch [1/10], Step [700/938], Loss: 0.5076\n",
      "Epoch [1/10], Step [800/938], Loss: 0.1788\n",
      "Epoch [1/10], Step [900/938], Loss: 0.2086\n",
      "Epoch [2/10], Step [100/938], Loss: 0.1666\n",
      "Epoch [2/10], Step [200/938], Loss: 0.4356\n",
      "Epoch [2/10], Step [300/938], Loss: 0.2186\n",
      "Epoch [2/10], Step [400/938], Loss: 0.2111\n",
      "Epoch [2/10], Step [500/938], Loss: 0.3189\n",
      "Epoch [2/10], Step [600/938], Loss: 0.2754\n",
      "Epoch [2/10], Step [700/938], Loss: 0.4192\n",
      "Epoch [2/10], Step [800/938], Loss: 0.2306\n",
      "Epoch [2/10], Step [900/938], Loss: 0.2781\n",
      "Epoch [3/10], Step [100/938], Loss: 0.1419\n",
      "Epoch [3/10], Step [200/938], Loss: 0.2553\n",
      "Epoch [3/10], Step [300/938], Loss: 0.2950\n",
      "Epoch [3/10], Step [400/938], Loss: 0.1891\n",
      "Epoch [3/10], Step [500/938], Loss: 0.2690\n",
      "Epoch [3/10], Step [600/938], Loss: 0.1653\n",
      "Epoch [3/10], Step [700/938], Loss: 0.1209\n",
      "Epoch [3/10], Step [800/938], Loss: 0.2418\n",
      "Epoch [3/10], Step [900/938], Loss: 0.2103\n",
      "Epoch [4/10], Step [100/938], Loss: 0.1906\n",
      "Epoch [4/10], Step [200/938], Loss: 0.2383\n",
      "Epoch [4/10], Step [300/938], Loss: 0.2454\n",
      "Epoch [4/10], Step [400/938], Loss: 0.2409\n",
      "Epoch [4/10], Step [500/938], Loss: 0.2302\n",
      "Epoch [4/10], Step [600/938], Loss: 0.2553\n",
      "Epoch [4/10], Step [700/938], Loss: 0.1073\n",
      "Epoch [4/10], Step [800/938], Loss: 0.1224\n",
      "Epoch [4/10], Step [900/938], Loss: 0.3417\n",
      "Epoch [5/10], Step [100/938], Loss: 0.1504\n",
      "Epoch [5/10], Step [200/938], Loss: 0.2305\n",
      "Epoch [5/10], Step [300/938], Loss: 0.2178\n",
      "Epoch [5/10], Step [400/938], Loss: 0.1125\n",
      "Epoch [5/10], Step [500/938], Loss: 0.1182\n",
      "Epoch [5/10], Step [600/938], Loss: 0.2415\n",
      "Epoch [5/10], Step [700/938], Loss: 0.3091\n",
      "Epoch [5/10], Step [800/938], Loss: 0.1426\n",
      "Epoch [5/10], Step [900/938], Loss: 0.1256\n",
      "Epoch [6/10], Step [100/938], Loss: 0.1285\n",
      "Epoch [6/10], Step [200/938], Loss: 0.1136\n",
      "Epoch [6/10], Step [300/938], Loss: 0.3006\n",
      "Epoch [6/10], Step [400/938], Loss: 0.0515\n",
      "Epoch [6/10], Step [500/938], Loss: 0.2252\n",
      "Epoch [6/10], Step [600/938], Loss: 0.2126\n",
      "Epoch [6/10], Step [700/938], Loss: 0.1721\n",
      "Epoch [6/10], Step [800/938], Loss: 0.1283\n",
      "Epoch [6/10], Step [900/938], Loss: 0.0561\n",
      "Epoch [7/10], Step [100/938], Loss: 0.1467\n",
      "Epoch [7/10], Step [200/938], Loss: 0.0769\n",
      "Epoch [7/10], Step [300/938], Loss: 0.0371\n",
      "Epoch [7/10], Step [400/938], Loss: 0.0610\n",
      "Epoch [7/10], Step [500/938], Loss: 0.0717\n",
      "Epoch [7/10], Step [600/938], Loss: 0.1125\n",
      "Epoch [7/10], Step [700/938], Loss: 0.0692\n",
      "Epoch [7/10], Step [800/938], Loss: 0.1182\n",
      "Epoch [7/10], Step [900/938], Loss: 0.0854\n",
      "Epoch [8/10], Step [100/938], Loss: 0.1483\n",
      "Epoch [8/10], Step [200/938], Loss: 0.1388\n",
      "Epoch [8/10], Step [300/938], Loss: 0.1124\n",
      "Epoch [8/10], Step [400/938], Loss: 0.0985\n",
      "Epoch [8/10], Step [500/938], Loss: 0.0707\n",
      "Epoch [8/10], Step [600/938], Loss: 0.0437\n",
      "Epoch [8/10], Step [700/938], Loss: 0.0804\n",
      "Epoch [8/10], Step [800/938], Loss: 0.1662\n",
      "Epoch [8/10], Step [900/938], Loss: 0.1756\n",
      "Epoch [9/10], Step [100/938], Loss: 0.0577\n",
      "Epoch [9/10], Step [200/938], Loss: 0.0495\n",
      "Epoch [9/10], Step [300/938], Loss: 0.2665\n",
      "Epoch [9/10], Step [400/938], Loss: 0.0406\n",
      "Epoch [9/10], Step [500/938], Loss: 0.2412\n",
      "Epoch [9/10], Step [600/938], Loss: 0.0724\n",
      "Epoch [9/10], Step [700/938], Loss: 0.2067\n",
      "Epoch [9/10], Step [800/938], Loss: 0.1761\n",
      "Epoch [9/10], Step [900/938], Loss: 0.0777\n",
      "Epoch [10/10], Step [100/938], Loss: 0.1784\n",
      "Epoch [10/10], Step [200/938], Loss: 0.0794\n",
      "Epoch [10/10], Step [300/938], Loss: 0.0488\n",
      "Epoch [10/10], Step [400/938], Loss: 0.0603\n",
      "Epoch [10/10], Step [500/938], Loss: 0.1016\n",
      "Epoch [10/10], Step [600/938], Loss: 0.0711\n",
      "Epoch [10/10], Step [700/938], Loss: 0.0977\n",
      "Epoch [10/10], Step [800/938], Loss: 0.0151\n",
      "Epoch [10/10], Step [900/938], Loss: 0.0614\n",
      "Test Accuracy: 92.23%\n"
     ]
    }
   ],
   "source": [
    "import torch\n",
    "import torch.nn as nn\n",
    "import torch.optim as optim\n",
    "import torchvision\n",
    "import torchvision.transforms as transforms\n",
    "from torch.utils.data import DataLoader\n",
    "\n",
    "# Define the CNN model\n",
    "class FashionCNN(nn.Module): \n",
    "    def __init__(self):\n",
    "        super(FashionCNN, self).__init__()\n",
    "        self.conv1 = nn.Conv2d(1, 32, kernel_size=3, padding=1) \n",
    "        self.conv2 = nn.Conv2d(32, 64, kernel_size=3, padding=1)\n",
    "        self.pool = nn.MaxPool2d(2, 2)\n",
    "        self.fc1 = nn.Linear(64 * 7 * 7, 128)\n",
    "        self.fc2 = nn.Linear(128, 10)\n",
    "\n",
    "    def forward(self, x):\n",
    "        x = self.pool(torch.relu(self.conv1(x)))\n",
    "        x = self.pool(torch.relu(self.conv2(x)))\n",
    "        x = x.view(-1, 64 * 7 * 7)\n",
    "        x = torch.relu(self.fc1(x))\n",
    "        x = self.fc2(x)\n",
    "        return x\n",
    "\n",
    "# Load the Fashion MNIST dataset\n",
    "transform = transforms.Compose([transforms.ToTensor(), transforms.Normalize((0.5,), (0.5,))])\n",
    "\n",
    "train_dataset = torchvision.datasets.FashionMNIST(root='../Datasets', train=True, download=True, transform=transform)\n",
    "test_dataset = torchvision.datasets.FashionMNIST(root='../Datasets', train=False, download=True, transform=transform)\n",
    "\n",
    "train_loader = DataLoader(train_dataset, batch_size=64, shuffle=True)\n",
    "test_loader = DataLoader(test_dataset, batch_size=64, shuffle=False)\n",
    "\n",
    "# Initialize the model, loss function, and optimizer\n",
    "model = FashionCNN()\n",
    "criterion = nn.CrossEntropyLoss()\n",
    "optimizer = optim.Adam(model.parameters(), lr=0.001)\n",
    "\n",
    "# Training the model\n",
    "num_epochs = 10\n",
    "\n",
    "for epoch in range(num_epochs):\n",
    "    for i, (images, labels) in enumerate(train_loader):\n",
    "        optimizer.zero_grad()\n",
    "        outputs = model(images)\n",
    "        loss = criterion(outputs, labels)\n",
    "        loss.backward()\n",
    "        optimizer.step()\n",
    "\n",
    "        if (i + 1) % 100 == 0:\n",
    "            print(f'Epoch [{epoch + 1}/{num_epochs}], Step [{i + 1}/{len(train_loader)}], Loss: {loss.item():.4f}')\n",
    "\n",
    "# Testing the model\n",
    "model.eval()\n",
    "correct = 0\n",
    "total = 0\n",
    "\n",
    "with torch.no_grad():\n",
    "    for images, labels in test_loader:\n",
    "        outputs = model(images)\n",
    "        _, predicted = torch.max(outputs.data, 1)\n",
    "        total += labels.size(0)\n",
    "        correct += (predicted == labels).sum().item()\n",
    "\n",
    "accuracy = correct / total\n",
    "print(f'Test Accuracy: {100 * accuracy:.2f}%')\n"
   ]
  }
 ],
 "metadata": {
  "kernelspec": {
   "display_name": "Python 3",
   "language": "python",
   "name": "python3"
  },
  "language_info": {
   "codemirror_mode": {
    "name": "ipython",
    "version": 3
   },
   "file_extension": ".py",
   "mimetype": "text/x-python",
   "name": "python",
   "nbconvert_exporter": "python",
   "pygments_lexer": "ipython3",
   "version": "3.11.7"
  }
 },
 "nbformat": 4,
 "nbformat_minor": 2
}
