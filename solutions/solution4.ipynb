{
 "cells": [
  {
   "cell_type": "markdown",
   "metadata": {},
   "source": [
    "# Practical Session 4 - Deep Learning with PyTorch\n",
    "In this session we will start with our toy task again.\n",
    "Remember how we solved it with an MLP in the first class ?\n",
    "We used scikit-learn, a one liner but without control over what was happening.\n",
    "\n",
    "We will start by implementing the model in Pytorch, in a basic way.\n",
    "\n",
    "Then we will work our way to making our code looks like a real Pytorch code."
   ]
  },
  {
   "cell_type": "code",
   "execution_count": 2,
   "metadata": {
    "ExecuteTime": {
     "end_time": "2024-01-22T08:48:18.810648546Z",
     "start_time": "2024-01-22T08:48:16.298607184Z"
    }
   },
   "outputs": [
    {
     "name": "stdout",
     "output_type": "stream",
     "text": [
      "torch.Size([6, 784])\n"
     ]
    }
   ],
   "source": [
    "import numpy as np\n",
    "import matplotlib.pyplot as plt\n",
    "import torch\n",
    "import time\n",
    "\n",
    "np.random.seed(20)\n",
    "\n",
    "\n",
    "def base_function(x):\n",
    "    y = 1.3 * x ** 3 - 3 * x ** 2 + 3.6 * x + 6.9\n",
    "    return y\n",
    "\n",
    "\n",
    "sample_input = torch.ones(size=(6, 28, 28))\n",
    "reshaped = torch.reshape(sample_input, (sample_input.shape[0], 784))\n",
    "print(reshaped.shape)"
   ]
  },
  {
   "cell_type": "code",
   "execution_count": 3,
   "metadata": {
    "ExecuteTime": {
     "end_time": "2024-01-22T08:48:23.835876407Z",
     "start_time": "2024-01-22T08:48:23.612108735Z"
    }
   },
   "outputs": [
    {
     "data": {
      "text/plain": "<Figure size 640x480 with 1 Axes>",
      "image/png": "[encoded data removed]"
     },
     "metadata": {},
     "output_type": "display_data"
    }
   ],
   "source": [
    "low, high = -1, 3\n",
    "n_points = 80\n",
    "\n",
    "# Get the values\n",
    "xs = np.random.uniform(low, high, n_points)\n",
    "sample_ys = base_function(xs)\n",
    "ys_noise = np.random.normal(size=len(xs))\n",
    "noisy_sample_ys = sample_ys + ys_noise\n",
    "\n",
    "# Plot the hidden function\n",
    "lsp = np.linspace(low, high)\n",
    "true_ys = base_function(lsp)\n",
    "plt.plot(lsp, true_ys, linestyle='dashed')\n",
    "\n",
    "# Plot the samples\n",
    "plt.scatter(xs, noisy_sample_ys)\n",
    "plt.xlabel('x')\n",
    "plt.ylabel('y')\n",
    "plt.show()"
   ]
  },
  {
   "cell_type": "markdown",
   "metadata": {},
   "source": [
    "We used the following command to fit the regressor last time :\n",
    "\"from sklearn.neural_network import MLPRegressor\n",
    " mlp_model = MLPRegressor(max_iter=5000)\"\n",
    "\n",
    "By default, the MLP Regressor makes the following computational graph :\n",
    "- input gets multiplied by a matrix with 100 parameters, and an additional parameter is added to each values, giving 100 outputs y (shape = (n_samples, 100))\n",
    "- ReLU is applied to each of these outputs (shape = (n_samples, 100)). The relu function is implemented in PyTorch with torch.nn.functional.relu(x)\n",
    "- Then this value is multiplied by a matrix to produce a scalar output (again 100 parameters) (shape = (n_samples, 1)) and shifted by an offset.\n",
    "\n",
    "A quick reminder on matrix multiplication : it is an operation that combines one matrix A of shape (m,n) and a matrix B of shape (n,p) into a matrix C of shape (m,p). In PyTorch (and NumPy), you need to call torch.matmul(A,B) to make this computation.\n",
    "\n",
    "To make the two big multiplications, we will use one torch tensor of 100 parameters for each multiplication, with the appropriate shape.Create random starting tensors of parameters.\n",
    "\n",
    "Then implement the asked computation to produce our output from our input. You should debug the operations by ensuring the shapes are correct.\n"
   ]
  },
  {
   "cell_type": "code",
   "execution_count": 4,
   "metadata": {
    "ExecuteTime": {
     "end_time": "2024-01-22T08:48:26.807881651Z",
     "start_time": "2024-01-22T08:48:26.801757850Z"
    }
   },
   "outputs": [],
   "source": [
    "# First create the parameters with small random initial values.\n",
    "# We need to mention that we want to compute a gradient\n",
    "# I provide you with the example for the first one :\n",
    "w1 = torch.normal(mean=0., std=0.1, size=(1, 100), requires_grad=True)\n",
    "b1 = torch.normal(mean=0., std=0.1, size=(1, 100), requires_grad=True)\n",
    "w2 = torch.normal(mean=0., std=0.1, size=(100, 1), requires_grad=True)\n",
    "b2 = torch.normal(mean=0., std=0.1, size=(1,), requires_grad=True)"
   ]
  },
  {
   "cell_type": "code",
   "execution_count": 5,
   "metadata": {
    "ExecuteTime": {
     "end_time": "2024-01-22T08:48:28.874680296Z",
     "start_time": "2024-01-22T08:48:28.848214734Z"
    }
   },
   "outputs": [
    {
     "data": {
      "text/plain": "torch.Size([6, 1])"
     },
     "execution_count": 5,
     "metadata": {},
     "output_type": "execute_result"
    }
   ],
   "source": [
    "# Then define the function\n",
    "def f(x, weight1=w1, bias1=b1, weight2=w2, bias2=b2):\n",
    "    y1 = torch.matmul(x, weight1) + bias1\n",
    "    a1 = torch.nn.functional.relu(y1)\n",
    "    out = torch.matmul(a1, weight2) + bias2\n",
    "    return out\n",
    "\n",
    "\n",
    "# Just to be sure everything runs, we make an inference on an example input of 6 random values\n",
    "sample_input = torch.ones(size=(6, 1))\n",
    "f(sample_input).shape"
   ]
  },
  {
   "cell_type": "markdown",
   "source": [
    "Now we will mostly use last class optimization procedure to train our network using Pytorch\n",
    "\n"
   ],
   "metadata": {
    "collapsed": false
   }
  },
  {
   "cell_type": "code",
   "execution_count": 5,
   "outputs": [
    {
     "data": {
      "text/plain": "torch.Size([80, 1])"
     },
     "execution_count": 5,
     "metadata": {},
     "output_type": "execute_result"
    }
   ],
   "source": [
    "# Also set up the data\n",
    "# Check that when doing inference on the data, we get an output tensor of shape (80,1).\n",
    "# Call us if it is not the case, there is something ~ subtle and not interesting\n",
    "torch_xs = torch.from_numpy(xs).float()[:, None]\n",
    "torch_noisy_ys = torch.from_numpy(noisy_sample_ys)[:, None]\n",
    "f(torch_xs).shape"
   ],
   "metadata": {
    "collapsed": false
   }
  },
  {
   "cell_type": "code",
   "execution_count": 6,
   "metadata": {},
   "outputs": [],
   "source": [
    "# Now like last time, let us define an optimizer and give the parameters to it.\n",
    "n_iter = 2000\n",
    "opt = torch.optim.Adam([w1, b1, w2, b2], lr=0.01)"
   ]
  },
  {
   "cell_type": "code",
   "execution_count": 7,
   "outputs": [
    {
     "name": "stdout",
     "output_type": "stream",
     "text": [
      "0 116.73420933671314\n",
      "10 107.61666385198626\n",
      "20 87.61322488435134\n",
      "30 48.8924144074449\n",
      "40 3.7156777082034864\n",
      "50 5.9852604415284025\n",
      "60 3.6201239313138247\n",
      "70 3.0894695732962516\n",
      "80 2.9000194303468128\n",
      "90 2.8699861478993585\n",
      "100 2.8151391517487694\n",
      "110 2.7842442769459868\n",
      "120 2.758980614512756\n",
      "130 2.739061146884314\n",
      "140 2.7211683098299098\n",
      "150 2.704812247017221\n",
      "160 2.688937715569291\n",
      "170 2.673303055008295\n",
      "180 2.6578724912023524\n",
      "190 2.642554900324115\n",
      "200 2.628130476733226\n",
      "210 2.6144775657164865\n",
      "220 2.5997340310845587\n",
      "230 2.5840513535820095\n",
      "240 2.5670763379400223\n",
      "250 2.5479417911544884\n",
      "260 2.525721750000703\n",
      "270 2.499334663948614\n",
      "280 2.468555230556496\n",
      "290 2.4322596994854324\n",
      "300 2.3893979826860323\n",
      "310 2.339992249732325\n",
      "320 2.2839187325369625\n",
      "330 2.2222707642137345\n",
      "340 2.156429770148\n",
      "350 2.088241965084132\n",
      "360 2.021982196986866\n",
      "370 1.960880456315591\n",
      "380 1.9076642270046207\n",
      "390 1.8630148626302963\n",
      "400 1.8274951674797713\n",
      "410 1.798176003239232\n",
      "420 1.77295653559417\n",
      "430 1.7499133104339002\n",
      "440 1.7289608562094425\n",
      "450 1.7089443149095416\n",
      "460 1.689983985624081\n",
      "470 1.6719391343820444\n",
      "480 1.6544968120576988\n",
      "490 1.637864764400847\n",
      "500 1.6221205897369244\n",
      "510 1.6071788990093072\n",
      "520 1.5928848455279547\n",
      "530 1.5794858500022009\n",
      "540 1.5668323481949296\n",
      "550 1.552465279312322\n",
      "560 1.5397705881524832\n",
      "570 1.5265203022474203\n",
      "580 1.5137533289405447\n",
      "590 1.4995515847586574\n",
      "600 1.486184909822508\n",
      "610 1.4729249067072376\n",
      "620 1.459453575776413\n",
      "630 1.446698215729534\n",
      "640 1.4343867629925953\n",
      "650 1.4215522850682416\n",
      "660 1.409860568110512\n",
      "670 1.3986075705059373\n",
      "680 1.3872334803118975\n",
      "690 1.3741639141832986\n",
      "700 1.3628460683950245\n",
      "710 1.3516455934466707\n",
      "720 1.3406918395397984\n",
      "730 1.330239652919846\n",
      "740 1.3185835436611804\n",
      "750 1.3088645676099802\n",
      "760 1.2969877479866443\n",
      "770 1.2860980523901762\n",
      "780 1.2756747569380869\n",
      "790 1.266096036494088\n",
      "800 1.2563917341758186\n",
      "810 1.2462050364618737\n",
      "820 1.2361346936385702\n",
      "830 1.2270623970955994\n",
      "840 1.218385147674788\n",
      "850 1.210484923459187\n",
      "860 1.2032293307072253\n",
      "870 1.1938349655438505\n",
      "880 1.1869731042582146\n",
      "890 1.1808022073248616\n",
      "900 1.174098842478989\n",
      "910 1.1681494306851252\n",
      "920 1.1629433635993602\n",
      "930 1.1574557032263502\n",
      "940 1.152494728011039\n",
      "950 1.1484061377463366\n",
      "960 1.144597122163216\n",
      "970 1.139925642595005\n",
      "980 1.1355521229008265\n",
      "990 1.1316049219662268\n",
      "1000 1.126306547533308\n",
      "1010 1.121323317848473\n",
      "1020 1.1164400153023055\n",
      "1030 1.1129449030206553\n",
      "1040 1.1089870050195587\n",
      "1050 1.1057680124146962\n",
      "1060 1.1033659076131968\n",
      "1070 1.1012522284738082\n",
      "1080 1.0981120424620314\n",
      "1090 1.0945481987705765\n",
      "1100 1.0914715947094304\n",
      "1110 1.0884177417100376\n",
      "1120 1.086360938357425\n",
      "1130 1.0826229749346612\n",
      "1140 1.0800703030154204\n",
      "1150 1.0785349468320051\n",
      "1160 1.0759377624492208\n",
      "1170 1.0740825491488792\n",
      "1180 1.0724955618231142\n",
      "1190 1.0703627443073043\n",
      "1200 1.0687309693030962\n",
      "1210 1.0669744966681733\n",
      "1220 1.0658908064079722\n",
      "1230 1.0652342586494679\n",
      "1240 1.062848711843575\n",
      "1250 1.0613419217599724\n",
      "1260 1.0600331210733231\n",
      "1270 1.0588846589430563\n",
      "1280 1.0582333641161337\n",
      "1290 1.0561038847374677\n",
      "1300 1.0552905422126941\n",
      "1310 1.054326044869299\n",
      "1320 1.0537012110337254\n",
      "1330 1.0520838419977474\n",
      "1340 1.0511514877173012\n",
      "1350 1.0501284748865727\n",
      "1360 1.0494054624181621\n",
      "1370 1.0476671115860907\n",
      "1380 1.0467424549930138\n",
      "1390 1.047718932476716\n",
      "1400 1.0449607229088844\n",
      "1410 1.0439474336267007\n",
      "1420 1.042544647225465\n",
      "1430 1.0421936675386188\n",
      "1440 1.0412299153680937\n",
      "1450 1.0410179925415985\n",
      "1460 1.0403384070875599\n",
      "1470 1.03921957948023\n",
      "1480 1.039855141757661\n",
      "1490 1.039679693434875\n",
      "1500 1.0377146818176013\n",
      "1510 1.0377227257036619\n",
      "1520 1.036984380367117\n",
      "1530 1.0371838944522302\n",
      "1540 1.0353575694287631\n",
      "1550 1.0354504839187257\n",
      "1560 1.0340531095550887\n",
      "1570 1.0336239117270334\n",
      "1580 1.0332153960171249\n",
      "1590 1.032822570678896\n",
      "1600 1.0341041920801644\n",
      "1610 1.0319403153655429\n",
      "1620 1.0316858354149918\n",
      "1630 1.031232236310729\n",
      "1640 1.0309894864441875\n",
      "1650 1.0302449040654806\n",
      "1660 1.0299393833491417\n",
      "1670 1.0300857108858277\n",
      "1680 1.0294344894058454\n",
      "1690 1.0287197632588818\n",
      "1700 1.0286845125083839\n",
      "1710 1.0317236442431106\n",
      "1720 1.028404925269627\n",
      "1730 1.0277199459748716\n",
      "1740 1.027087857369763\n",
      "1750 1.0268315243913495\n",
      "1760 1.0272014901208446\n",
      "1770 1.0273607162524974\n",
      "1780 1.0266309236964148\n",
      "1790 1.0256987069109467\n",
      "1800 1.028631024159998\n",
      "1810 1.0260427099335367\n",
      "1820 1.025103029498149\n",
      "1830 1.0249912282319358\n",
      "1840 1.0243244264787483\n",
      "1850 1.0246750165393554\n",
      "1860 1.028787518142411\n",
      "1870 1.0266882014257726\n",
      "1880 1.0239016494158977\n",
      "1890 1.0233719570307047\n",
      "1900 1.0230425157459284\n",
      "1910 1.0228183404747282\n",
      "1920 1.022633666941513\n",
      "1930 1.0223609619647558\n",
      "1940 1.0222107114569632\n",
      "1950 1.0219883600260344\n",
      "1960 1.0236218303578593\n",
      "1970 1.0215223716924196\n",
      "1980 1.0230815799843893\n",
      "1990 1.021345901275267\n"
     ]
    }
   ],
   "source": [
    "# Loop over the data, make the forward, backward, step and zero grad\n",
    "for i in range(n_iter):\n",
    "    prediction = f(torch_xs, w1, b1, w2, b2)\n",
    "    loss = torch.mean((prediction - torch_noisy_ys) ** 2)\n",
    "    loss.backward()\n",
    "    opt.step()\n",
    "    opt.zero_grad()\n",
    "    if not i % 10:\n",
    "        print(i, loss.item())"
   ],
   "metadata": {
    "collapsed": false
   }
  },
  {
   "cell_type": "code",
   "execution_count": 8,
   "outputs": [
    {
     "data": {
      "text/plain": "<Figure size 640x480 with 1 Axes>",
      "image/png": "[encoded data removed]"
     },
     "metadata": {},
     "output_type": "display_data"
    }
   ],
   "source": [
    "torch_lsp = torch.from_numpy(lsp).float()[:, None]\n",
    "predicted_ys = f(torch_lsp).detach().numpy()\n",
    "\n",
    "plt.plot(lsp, true_ys, linestyle='dashed')\n",
    "plt.plot(lsp, predicted_ys)\n",
    "\n",
    "# Plot the samples\n",
    "plt.scatter(xs, noisy_sample_ys)\n",
    "plt.xlabel('x')\n",
    "plt.ylabel('y')\n",
    "plt.show()"
   ],
   "metadata": {
    "collapsed": false
   }
  },
  {
   "cell_type": "markdown",
   "source": [
    "Congratulations, you have coded yourself a MLP model ! We have used the computation graph framework.\n",
    "\n",
    "\n",
    "Now let us make our code prettier (more Pytorch) and more efficient.\n",
    "First let us refactor the model in the proper way it should be coded, by using the torch.nn.Module class.\n",
    "You should add almost no new code, just reorganize the one above into a class."
   ],
   "metadata": {
    "collapsed": false
   }
  },
  {
   "cell_type": "code",
   "execution_count": 9,
   "outputs": [
    {
     "data": {
      "text/plain": "torch.Size([80, 1])"
     },
     "execution_count": 9,
     "metadata": {},
     "output_type": "execute_result"
    }
   ],
   "source": [
    "from torch.nn import Module, Parameter\n",
    "\n",
    "\n",
    "class MyOwnMLP(Module):\n",
    "    def __init__(self):\n",
    "        super(MyOwnMLP, self).__init__()\n",
    "        self.w1 = Parameter(torch.normal(mean=0., std=0.1, size=(1, 100)))\n",
    "        self.b1 = Parameter(torch.normal(mean=0., std=0.1, size=(1,)))\n",
    "        self.w2 = Parameter(torch.normal(mean=0., std=0.1, size=(100, 1)))\n",
    "        self.b2 = Parameter(torch.normal(mean=0., std=0.1, size=(1,)))\n",
    "\n",
    "    def forward(self, x):\n",
    "        y1 = torch.matmul(x, self.w1) + self.b1\n",
    "        a1 = torch.nn.functional.relu(y1)\n",
    "        out = torch.matmul(a1, self.w2) + self.b2\n",
    "        return out\n",
    "\n",
    "\n",
    "model = MyOwnMLP()\n",
    "out = model(torch_xs)\n",
    "out.shape"
   ],
   "metadata": {
    "collapsed": false
   }
  },
  {
   "cell_type": "markdown",
   "source": [
    "Now we are good to also make the data iteration process look like Pytorch code !\n",
    "\n",
    "We need to define a Dataset object. Once we have this, we can use it to create a DataLoader object"
   ],
   "metadata": {
    "collapsed": false
   }
  },
  {
   "cell_type": "code",
   "execution_count": 10,
   "outputs": [],
   "source": [
    "from torch.utils.data import Dataset, DataLoader\n",
    "\n",
    "\n",
    "class CustomDataset(Dataset):\n",
    "    def __init__(self, data_x, data_y):\n",
    "        self.data_x = data_x\n",
    "        self.data_y = data_y\n",
    "\n",
    "    def __len__(self):\n",
    "        return len(self.data_x)\n",
    "\n",
    "    def __getitem__(self, idx):\n",
    "        x = self.data_x[idx]\n",
    "        y = self.data_y[idx]\n",
    "        return x, y"
   ],
   "metadata": {
    "collapsed": false
   }
  },
  {
   "cell_type": "code",
   "execution_count": 11,
   "outputs": [
    {
     "name": "stdout",
     "output_type": "stream",
     "text": [
      "Done in pytorch :  0.12343168258666992\n"
     ]
    }
   ],
   "source": [
    "# Loop and wait for each data point in PyTorch\n",
    "dataset = CustomDataset(data_x=torch_xs, data_y=torch_noisy_ys)\n",
    "dataloader = DataLoader(dataset=dataset, batch_size=10, num_workers=6)\n",
    "start = time.time()\n",
    "for point in dataloader:\n",
    "    pass\n",
    "print('Done in pytorch : ', time.time() - start)"
   ],
   "metadata": {
    "collapsed": false
   }
  },
  {
   "cell_type": "markdown",
   "source": [
    "The last thing missing to make our pipeline truly Pytorch is to use a GPU.\n",
    "\n",
    "In Pytorch it is really easy, you just need to 'move' your tensors to a 'device'.\n",
    "You can test if a gpu is available and create the appropriate device with the following lines:"
   ],
   "metadata": {
    "collapsed": false
   }
  },
  {
   "cell_type": "code",
   "execution_count": 12,
   "outputs": [],
   "source": [
    "device = 'gpu' if torch.cuda.is_available() else 'cpu'\n",
    "torch_xs = torch_xs.to(device)"
   ],
   "metadata": {
    "collapsed": false
   }
  },
  {
   "cell_type": "markdown",
   "source": [
    "Now we finally have all the elements to make an actual Pytorch complete pipeline !\n",
    "\n",
    "Create a model, and try to put it on a device.\n",
    "Create an optimizer with your model's parameters\n",
    "Make your data into a dataloader\n",
    "\n",
    "Then use two nested for loops : one for 100 epochs, and in each epoch loop over the dataloader\n",
    "    Inside the loop, for every batch first put the data on the device\n",
    "    Then use the semantics of above :\n",
    "        - model(batch)\n",
    "        - loss computation and backward\n",
    "        - gradient step and zero_grad"
   ],
   "metadata": {
    "collapsed": false
   }
  },
  {
   "cell_type": "code",
   "execution_count": 13,
   "outputs": [
    {
     "name": "stdout",
     "output_type": "stream",
     "text": [
      "0 141.09646508612568\n",
      "10 5.020805486489667\n",
      "20 4.580017410134488\n",
      "30 4.372838885927111\n",
      "40 4.201923989106854\n",
      "50 4.03404025332816\n",
      "60 3.87580548620853\n",
      "70 3.6803988303338797\n",
      "80 3.461580774924279\n",
      "90 3.2990358157066124\n",
      "100 3.121203834594307\n",
      "110 2.918246069981979\n",
      "120 2.788983478365348\n",
      "130 2.6452860699513887\n",
      "140 2.533261340986804\n",
      "150 2.4204639718739824\n",
      "160 2.350778580526362\n",
      "170 2.272824814949589\n",
      "180 2.187296423047029\n",
      "190 2.122884542968142\n"
     ]
    }
   ],
   "source": [
    "n_epochs = 200\n",
    "model = MyOwnMLP()\n",
    "opt = torch.optim.Adam(model.parameters(), lr=0.01)\n",
    "\n",
    "dataset = CustomDataset(data_x=torch_xs, data_y=torch_noisy_ys)\n",
    "dataloader = DataLoader(dataset=dataset, batch_size=10, num_workers=6)\n",
    "\n",
    "loss = 0\n",
    "for epoch in range(n_epochs):\n",
    "    for batch_x, batch_y in dataloader:\n",
    "        batch_x, batch_y = batch_x.to(device), batch_y.to(device)\n",
    "        prediction = model(batch_x)\n",
    "        loss = torch.mean((prediction - batch_y) ** 2)\n",
    "        loss.backward()\n",
    "        opt.step()\n",
    "        opt.zero_grad()\n",
    "        loss = loss.item()\n",
    "    if not epoch % 10:\n",
    "        print(epoch, loss)\n",
    "\n",
    "# To easily use the trained model we need to send it back to cpu at the end\n",
    "model = model.to('cpu')"
   ],
   "metadata": {
    "collapsed": false
   }
  },
  {
   "cell_type": "markdown",
   "source": [
    "We finally can plot the last model"
   ],
   "metadata": {
    "collapsed": false
   }
  },
  {
   "cell_type": "code",
   "execution_count": 14,
   "outputs": [
    {
     "data": {
      "text/plain": "<Figure size 640x480 with 1 Axes>",
      "image/png": "[encoded data removed]"
     },
     "metadata": {},
     "output_type": "display_data"
    }
   ],
   "source": [
    "plt.plot(lsp, true_ys, linestyle='dashed')\n",
    "plt.plot(lsp, predicted_ys)\n",
    "\n",
    "# Plot the samples\n",
    "plt.scatter(xs, noisy_sample_ys)\n",
    "plt.xlabel('x')\n",
    "plt.ylabel('y')\n",
    "plt.show()"
   ],
   "metadata": {
    "collapsed": false
   }
  }
 ],
 "metadata": {
  "kernelspec": {
   "display_name": "Python 3 (ipykernel)",
   "language": "python",
   "name": "python3"
  },
  "language_info": {
   "codemirror_mode": {
    "name": "ipython",
    "version": 3
   },
   "file_extension": ".py",
   "mimetype": "text/x-python",
   "name": "python",
   "nbconvert_exporter": "python",
   "pygments_lexer": "ipython3",
   "version": "3.8.5"
  }
 },
 "nbformat": 4,
 "nbformat_minor": 1
}
