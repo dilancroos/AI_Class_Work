{
 "cells": [
  {
   "cell_type": "code",
   "execution_count": 1,
   "metadata": {},
   "outputs": [
    {
     "name": "stdout",
     "output_type": "stream",
     "text": [
      "Downloading http://fashion-mnist.s3-website.eu-central-1.amazonaws.com/train-images-idx3-ubyte.gz\n",
      "Downloading http://fashion-mnist.s3-website.eu-central-1.amazonaws.com/train-images-idx3-ubyte.gz to ./data/FashionMNIST/raw/train-images-idx3-ubyte.gz\n"
     ]
    },
    {
     "name": "stderr",
     "output_type": "stream",
     "text": [
      "100%|██████████| 26421880/26421880 [00:13<00:00, 2025319.89it/s]\n"
     ]
    },
    {
     "name": "stdout",
     "output_type": "stream",
     "text": [
      "Extracting ./data/FashionMNIST/raw/train-images-idx3-ubyte.gz to ./data/FashionMNIST/raw\n",
      "\n",
      "Downloading http://fashion-mnist.s3-website.eu-central-1.amazonaws.com/train-labels-idx1-ubyte.gz\n",
      "Downloading http://fashion-mnist.s3-website.eu-central-1.amazonaws.com/train-labels-idx1-ubyte.gz to ./data/FashionMNIST/raw/train-labels-idx1-ubyte.gz\n"
     ]
    },
    {
     "name": "stderr",
     "output_type": "stream",
     "text": [
      "100%|██████████| 29515/29515 [00:00<00:00, 1692389.16it/s]\n"
     ]
    },
    {
     "name": "stdout",
     "output_type": "stream",
     "text": [
      "Extracting ./data/FashionMNIST/raw/train-labels-idx1-ubyte.gz to ./data/FashionMNIST/raw\n",
      "\n",
      "Downloading http://fashion-mnist.s3-website.eu-central-1.amazonaws.com/t10k-images-idx3-ubyte.gz\n",
      "Downloading http://fashion-mnist.s3-website.eu-central-1.amazonaws.com/t10k-images-idx3-ubyte.gz to ./data/FashionMNIST/raw/t10k-images-idx3-ubyte.gz\n"
     ]
    },
    {
     "name": "stderr",
     "output_type": "stream",
     "text": [
      "100%|██████████| 4422102/4422102 [00:01<00:00, 2219977.37it/s]\n"
     ]
    },
    {
     "name": "stdout",
     "output_type": "stream",
     "text": [
      "Extracting ./data/FashionMNIST/raw/t10k-images-idx3-ubyte.gz to ./data/FashionMNIST/raw\n",
      "\n",
      "Downloading http://fashion-mnist.s3-website.eu-central-1.amazonaws.com/t10k-labels-idx1-ubyte.gz\n",
      "Downloading http://fashion-mnist.s3-website.eu-central-1.amazonaws.com/t10k-labels-idx1-ubyte.gz to ./data/FashionMNIST/raw/t10k-labels-idx1-ubyte.gz\n"
     ]
    },
    {
     "name": "stderr",
     "output_type": "stream",
     "text": [
      "100%|██████████| 5148/5148 [00:00<00:00, 5614216.59it/s]"
     ]
    },
    {
     "name": "stdout",
     "output_type": "stream",
     "text": [
      "Extracting ./data/FashionMNIST/raw/t10k-labels-idx1-ubyte.gz to ./data/FashionMNIST/raw\n",
      "\n"
     ]
    },
    {
     "name": "stderr",
     "output_type": "stream",
     "text": [
      "\n"
     ]
    },
    {
     "name": "stdout",
     "output_type": "stream",
     "text": [
      "Epoch [1/10], Step [100/938], Loss: 0.3571\n",
      "Epoch [1/10], Step [200/938], Loss: 0.4027\n",
      "Epoch [1/10], Step [300/938], Loss: 0.2755\n",
      "Epoch [1/10], Step [400/938], Loss: 0.2206\n",
      "Epoch [1/10], Step [500/938], Loss: 0.3214\n",
      "Epoch [1/10], Step [600/938], Loss: 0.3795\n",
      "Epoch [1/10], Step [700/938], Loss: 0.4566\n",
      "Epoch [1/10], Step [800/938], Loss: 0.5795\n",
      "Epoch [1/10], Step [900/938], Loss: 0.2459\n",
      "Epoch [2/10], Step [100/938], Loss: 0.3462\n",
      "Epoch [2/10], Step [200/938], Loss: 0.2255\n",
      "Epoch [2/10], Step [300/938], Loss: 0.1736\n",
      "Epoch [2/10], Step [400/938], Loss: 0.3473\n",
      "Epoch [2/10], Step [500/938], Loss: 0.2133\n",
      "Epoch [2/10], Step [600/938], Loss: 0.1687\n",
      "Epoch [2/10], Step [700/938], Loss: 0.2076\n",
      "Epoch [2/10], Step [800/938], Loss: 0.3732\n",
      "Epoch [2/10], Step [900/938], Loss: 0.2400\n",
      "Epoch [3/10], Step [100/938], Loss: 0.3017\n",
      "Epoch [3/10], Step [200/938], Loss: 0.1812\n",
      "Epoch [3/10], Step [300/938], Loss: 0.2739\n",
      "Epoch [3/10], Step [400/938], Loss: 0.2691\n",
      "Epoch [3/10], Step [500/938], Loss: 0.3581\n",
      "Epoch [3/10], Step [600/938], Loss: 0.3324\n",
      "Epoch [3/10], Step [700/938], Loss: 0.1468\n",
      "Epoch [3/10], Step [800/938], Loss: 0.1589\n",
      "Epoch [3/10], Step [900/938], Loss: 0.3023\n",
      "Epoch [4/10], Step [100/938], Loss: 0.3724\n",
      "Epoch [4/10], Step [200/938], Loss: 0.3087\n",
      "Epoch [4/10], Step [300/938], Loss: 0.1511\n",
      "Epoch [4/10], Step [400/938], Loss: 0.2170\n",
      "Epoch [4/10], Step [500/938], Loss: 0.1885\n",
      "Epoch [4/10], Step [600/938], Loss: 0.3158\n",
      "Epoch [4/10], Step [700/938], Loss: 0.2814\n",
      "Epoch [4/10], Step [800/938], Loss: 0.4164\n",
      "Epoch [4/10], Step [900/938], Loss: 0.3547\n",
      "Epoch [5/10], Step [100/938], Loss: 0.1591\n",
      "Epoch [5/10], Step [200/938], Loss: 0.2075\n",
      "Epoch [5/10], Step [300/938], Loss: 0.1085\n",
      "Epoch [5/10], Step [400/938], Loss: 0.1191\n",
      "Epoch [5/10], Step [500/938], Loss: 0.1408\n",
      "Epoch [5/10], Step [600/938], Loss: 0.1091\n",
      "Epoch [5/10], Step [700/938], Loss: 0.2211\n",
      "Epoch [5/10], Step [800/938], Loss: 0.1974\n",
      "Epoch [5/10], Step [900/938], Loss: 0.1719\n",
      "Epoch [6/10], Step [100/938], Loss: 0.1691\n",
      "Epoch [6/10], Step [200/938], Loss: 0.0537\n",
      "Epoch [6/10], Step [300/938], Loss: 0.1731\n",
      "Epoch [6/10], Step [400/938], Loss: 0.0642\n",
      "Epoch [6/10], Step [500/938], Loss: 0.1386\n",
      "Epoch [6/10], Step [600/938], Loss: 0.1858\n",
      "Epoch [6/10], Step [700/938], Loss: 0.1390\n",
      "Epoch [6/10], Step [800/938], Loss: 0.1327\n",
      "Epoch [6/10], Step [900/938], Loss: 0.1519\n",
      "Epoch [7/10], Step [100/938], Loss: 0.1410\n",
      "Epoch [7/10], Step [200/938], Loss: 0.0849\n",
      "Epoch [7/10], Step [300/938], Loss: 0.1357\n",
      "Epoch [7/10], Step [400/938], Loss: 0.0599\n",
      "Epoch [7/10], Step [500/938], Loss: 0.0869\n",
      "Epoch [7/10], Step [600/938], Loss: 0.0740\n",
      "Epoch [7/10], Step [700/938], Loss: 0.1786\n",
      "Epoch [7/10], Step [800/938], Loss: 0.2455\n",
      "Epoch [7/10], Step [900/938], Loss: 0.1103\n",
      "Epoch [8/10], Step [100/938], Loss: 0.1226\n",
      "Epoch [8/10], Step [200/938], Loss: 0.1211\n",
      "Epoch [8/10], Step [300/938], Loss: 0.2022\n",
      "Epoch [8/10], Step [400/938], Loss: 0.1245\n",
      "Epoch [8/10], Step [500/938], Loss: 0.1035\n",
      "Epoch [8/10], Step [600/938], Loss: 0.1401\n",
      "Epoch [8/10], Step [700/938], Loss: 0.0557\n",
      "Epoch [8/10], Step [800/938], Loss: 0.1283\n",
      "Epoch [8/10], Step [900/938], Loss: 0.2139\n",
      "Epoch [9/10], Step [100/938], Loss: 0.0376\n",
      "Epoch [9/10], Step [200/938], Loss: 0.1185\n",
      "Epoch [9/10], Step [300/938], Loss: 0.1155\n",
      "Epoch [9/10], Step [400/938], Loss: 0.1137\n",
      "Epoch [9/10], Step [500/938], Loss: 0.0866\n",
      "Epoch [9/10], Step [600/938], Loss: 0.0823\n",
      "Epoch [9/10], Step [700/938], Loss: 0.1197\n",
      "Epoch [9/10], Step [800/938], Loss: 0.1091\n",
      "Epoch [9/10], Step [900/938], Loss: 0.0832\n",
      "Epoch [10/10], Step [100/938], Loss: 0.1114\n",
      "Epoch [10/10], Step [200/938], Loss: 0.0629\n",
      "Epoch [10/10], Step [300/938], Loss: 0.0753\n",
      "Epoch [10/10], Step [400/938], Loss: 0.0612\n",
      "Epoch [10/10], Step [500/938], Loss: 0.0356\n",
      "Epoch [10/10], Step [600/938], Loss: 0.1043\n",
      "Epoch [10/10], Step [700/938], Loss: 0.0597\n",
      "Epoch [10/10], Step [800/938], Loss: 0.0631\n",
      "Epoch [10/10], Step [900/938], Loss: 0.0444\n",
      "Test Accuracy: 91.94%\n"
     ]
    }
   ],
   "source": [
    "import torch\n",
    "import torch.nn as nn\n",
    "import torch.optim as optim\n",
    "import torchvision\n",
    "import torchvision.transforms as transforms\n",
    "from torch.utils.data import DataLoader\n",
    "\n",
    "# Define the CNN model\n",
    "class FashionCNN(nn.Module):\n",
    "    def __init__(self):\n",
    "        super(FashionCNN, self).__init__()\n",
    "        self.conv1 = nn.Conv2d(1, 32, kernel_size=3, padding=1)\n",
    "        self.conv2 = nn.Conv2d(32, 64, kernel_size=3, padding=1)\n",
    "        self.pool = nn.MaxPool2d(2, 2)\n",
    "        self.fc1 = nn.Linear(64 * 7 * 7, 128)\n",
    "        self.fc2 = nn.Linear(128, 10)\n",
    "\n",
    "    def forward(self, x):\n",
    "        x = self.pool(torch.relu(self.conv1(x)))\n",
    "        x = self.pool(torch.relu(self.conv2(x)))\n",
    "        x = x.view(-1, 64 * 7 * 7)\n",
    "        x = torch.relu(self.fc1(x))\n",
    "        x = self.fc2(x)\n",
    "        return x\n",
    "\n",
    "# Load the Fashion MNIST dataset\n",
    "transform = transforms.Compose([transforms.ToTensor(), transforms.Normalize((0.5,), (0.5,))])\n",
    "\n",
    "train_dataset = torchvision.datasets.FashionMNIST(root='./data', train=True, download=True, transform=transform)\n",
    "test_dataset = torchvision.datasets.FashionMNIST(root='./data', train=False, download=True, transform=transform)\n",
    "\n",
    "train_loader = DataLoader(train_dataset, batch_size=64, shuffle=True)\n",
    "test_loader = DataLoader(test_dataset, batch_size=64, shuffle=False)\n",
    "\n",
    "# Initialize the model, loss function, and optimizer\n",
    "model = FashionCNN()\n",
    "criterion = nn.CrossEntropyLoss()\n",
    "optimizer = optim.Adam(model.parameters(), lr=0.001)\n",
    "\n",
    "# Training the model\n",
    "num_epochs = 10\n",
    "\n",
    "for epoch in range(num_epochs):\n",
    "    for i, (images, labels) in enumerate(train_loader):\n",
    "        optimizer.zero_grad()\n",
    "        outputs = model(images)\n",
    "        loss = criterion(outputs, labels)\n",
    "        loss.backward()\n",
    "        optimizer.step()\n",
    "\n",
    "        if (i + 1) % 100 == 0:\n",
    "            print(f'Epoch [{epoch + 1}/{num_epochs}], Step [{i + 1}/{len(train_loader)}], Loss: {loss.item():.4f}')\n",
    "\n",
    "# Testing the model\n",
    "model.eval()\n",
    "correct = 0\n",
    "total = 0\n",
    "\n",
    "with torch.no_grad():\n",
    "    for images, labels in test_loader:\n",
    "        outputs = model(images)\n",
    "        _, predicted = torch.max(outputs.data, 1)\n",
    "        total += labels.size(0)\n",
    "        correct += (predicted == labels).sum().item()\n",
    "\n",
    "accuracy = correct / total\n",
    "print(f'Test Accuracy: {100 * accuracy:.2f}%')\n"
   ]
  }
 ],
 "metadata": {
  "kernelspec": {
   "display_name": "Python 3",
   "language": "python",
   "name": "python3"
  },
  "language_info": {
   "codemirror_mode": {
    "name": "ipython",
    "version": 3
   },
   "file_extension": ".py",
   "mimetype": "text/x-python",
   "name": "python",
   "nbconvert_exporter": "python",
   "pygments_lexer": "ipython3",
   "version": "3.11.7"
  }
 },
 "nbformat": 4,
 "nbformat_minor": 2
}
